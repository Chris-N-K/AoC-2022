{
 "cells": [
  {
   "cell_type": "markdown",
   "metadata": {},
   "source": [
    "# Day4"
   ]
  },
  {
   "cell_type": "code",
   "execution_count": 5,
   "metadata": {},
   "outputs": [
    {
     "name": "stdout",
     "output_type": "stream",
     "text": [
      "~~~~~~~~~~~~~~~~~~~~~~~~~~~~~~~~~~~~~~~~~~~~~~~~~~~~~~~~~~~~~~~~~~~~~~~Camp Cleanup~~~~~~~~~~~~~~~~~~~~~~~~~~~~~~~~~~~~~~~~~~~~~~~~~~~~~~~~~~~~~~~~~~~~~~~\n"
     ]
    }
   ],
   "source": [
    "from aocd.models import Puzzle\n",
    "from aocd import submit\n",
    "\n",
    "puzzle = Puzzle(day=4, year=2022)\n",
    "edata = puzzle.example_data\n",
    "idata = puzzle.input_data\n",
    "\n",
    "puzzle.view()\n",
    "print(puzzle.title.center(154, '~'))"
   ]
  },
  {
   "cell_type": "code",
   "execution_count": 42,
   "metadata": {},
   "outputs": [
    {
     "data": {
      "text/plain": [
       "524"
      ]
     },
     "execution_count": 42,
     "metadata": {},
     "output_type": "execute_result"
    }
   ],
   "source": [
    "#a\n",
    "data = idata\n",
    "\n",
    "\n",
    "def b_in_a(a, b):\n",
    "    if a[0] == b[0] or a[1] == b[1]:\n",
    "        return 1\n",
    "    elif a[0] < b[0] and a[1] > b[1]:\n",
    "        return 1 \n",
    "    elif a[0] > b[0] and a[1] < b[1]:\n",
    "        return 1\n",
    "    return 0\n",
    "\n",
    "\n",
    "parsed = [[list(map(int, pair.split('-'))) for pair in line.split(',')] for line in data.splitlines()]\n",
    "res_a = sum([b_in_a(*pair) for pair in parsed])\n",
    "res_a"
   ]
  },
  {
   "cell_type": "code",
   "execution_count": 41,
   "metadata": {},
   "outputs": [
    {
     "data": {
      "text/plain": [
       "524"
      ]
     },
     "execution_count": 41,
     "metadata": {},
     "output_type": "execute_result"
    }
   ],
   "source": [
    "# alternativ a 1\n",
    "data = idata\n",
    "\n",
    "parsed = [[list(map(int, pair.split('-'))) for pair in line.split(',')] for line in data.splitlines()]\n",
    "alt_res_a = 0\n",
    "for pair in parsed:\n",
    "    a = set(range(pair[0][0], pair[0][1]+1))\n",
    "    b = set(range(pair[1][0], pair[1][1]+1))\n",
    "    if a.issubset(b) or b.issubset(a):\n",
    "        alt_res_a += 1\n",
    "alt_res_a\n"
   ]
  },
  {
   "cell_type": "code",
   "execution_count": 40,
   "metadata": {},
   "outputs": [
    {
     "data": {
      "text/plain": [
       "524"
      ]
     },
     "execution_count": 40,
     "metadata": {},
     "output_type": "execute_result"
    }
   ],
   "source": [
    "# alternativ a 2\n",
    "data = idata\n",
    "\n",
    "alt_res_a = 0\n",
    "for line in data.splitlines():\n",
    "    edges = [list(map(int, edge_pair.split('-'))) for edge_pair in line.split(',')]\n",
    "    a = set(range(edges[0][0], edges[0][1]+1))\n",
    "    b = set(range(edges[1][0], edges[1][1]+1))\n",
    "    if a.issubset(b) or b.issubset(a):\n",
    "        alt_res_a += 1\n",
    "alt_res_a\n",
    "\n"
   ]
  },
  {
   "cell_type": "code",
   "execution_count": 28,
   "metadata": {},
   "outputs": [
    {
     "data": {
      "text/plain": [
       "'2-4,6-8\\n2-3,4-5\\n5-7,7-9\\n2-8,3-7\\n6-6,4-6\\n2-6,4-8'"
      ]
     },
     "execution_count": 28,
     "metadata": {},
     "output_type": "execute_result"
    }
   ],
   "source": [
    "edata"
   ]
  },
  {
   "cell_type": "code",
   "execution_count": 30,
   "metadata": {},
   "outputs": [
    {
     "name": "stdout",
     "output_type": "stream",
     "text": [
      "That's the right answer!  You are one gold star closer to collecting enough star fruit. [Continue to Part Two]\n"
     ]
    },
    {
     "data": {
      "text/plain": [
       "<Response [200]>"
      ]
     },
     "execution_count": 30,
     "metadata": {},
     "output_type": "execute_result"
    }
   ],
   "source": [
    "submit(res_a, 'a', day=4, year=2022)"
   ]
  },
  {
   "cell_type": "code",
   "execution_count": 37,
   "metadata": {},
   "outputs": [
    {
     "data": {
      "text/plain": [
       "798"
      ]
     },
     "execution_count": 37,
     "metadata": {},
     "output_type": "execute_result"
    }
   ],
   "source": [
    "# b\n",
    "data = idata\n",
    "\n",
    "parsed = [[list(map(int, pair.split('-'))) for pair in line.split(',')] for line in data.splitlines()]\n",
    "res_b = 0\n",
    "for pair in parsed:\n",
    "    a = set(range(pair[0][0], pair[0][1]+1))\n",
    "    b = set(range(pair[1][0], pair[1][1]+1))\n",
    "    if len(a.intersection(b)) > 0:\n",
    "        res_b += 1\n",
    "res_b\n"
   ]
  },
  {
   "cell_type": "code",
   "execution_count": 43,
   "metadata": {},
   "outputs": [
    {
     "data": {
      "text/plain": [
       "798"
      ]
     },
     "execution_count": 43,
     "metadata": {},
     "output_type": "execute_result"
    }
   ],
   "source": [
    "# alternativ b\n",
    "data = idata\n",
    "\n",
    "alt_res_b = 0\n",
    "for line in data.splitlines():\n",
    "    edges = [list(map(int, edge_pair.split('-'))) for edge_pair in line.split(',')]\n",
    "    a = set(range(edges[0][0], edges[0][1]+1))\n",
    "    b = set(range(edges[1][0], edges[1][1]+1))\n",
    "    if len(a.intersection(b)) > 0:\n",
    "        alt_res_b += 1\n",
    "alt_res_b\n"
   ]
  },
  {
   "cell_type": "code",
   "execution_count": 38,
   "metadata": {},
   "outputs": [
    {
     "name": "stdout",
     "output_type": "stream",
     "text": [
      "That's the right answer!  You are one gold star closer to collecting enough star fruit.You have completed Day 4! You can [Shareon\n",
      "  Twitter\n",
      "Mastodon] this victory or [Return to Your Advent Calendar].\n"
     ]
    },
    {
     "data": {
      "text/plain": [
       "<Response [200]>"
      ]
     },
     "execution_count": 38,
     "metadata": {},
     "output_type": "execute_result"
    }
   ],
   "source": [
    "submit(res_b, 'b', day=4, year=2022)"
   ]
  },
  {
   "cell_type": "code",
   "execution_count": 49,
   "metadata": {},
   "outputs": [
    {
     "data": {
      "text/plain": [
       "798"
      ]
     },
     "execution_count": 49,
     "metadata": {},
     "output_type": "execute_result"
    }
   ],
   "source": [
    "# alternative combined a and b\n",
    "data = idata\n",
    "\n",
    "\n",
    "def check_intersection(a, b, full_intersect=True):\n",
    "    a = set(range(a[0], a[1]+1))\n",
    "    b = set(range(b[0], b[1]+1))\n",
    "    inter_len = len(a.intersection(b))\n",
    "    if full_intersect:\n",
    "        if inter_len == len(a) or inter_len == len(b):\n",
    "            return 1\n",
    "    else:\n",
    "        if inter_len > 0:\n",
    "            return 1\n",
    "    return 0\n",
    "\n",
    "\n",
    "parsed = [[list(map(int, pair.split('-'))) for pair in line.split(',')] for line in data.splitlines()]\n",
    "res = sum([check_intersection(*pair, full_intersect=False) for pair in parsed])\n",
    "res"
   ]
  },
  {
   "cell_type": "code",
   "execution_count": null,
   "metadata": {},
   "outputs": [],
   "source": []
  }
 ],
 "metadata": {
  "kernelspec": {
   "display_name": "Python 3.10.8 (conda)",
   "language": "python",
   "name": "python3"
  },
  "language_info": {
   "codemirror_mode": {
    "name": "ipython",
    "version": 3
   },
   "file_extension": ".py",
   "mimetype": "text/x-python",
   "name": "python",
   "nbconvert_exporter": "python",
   "pygments_lexer": "ipython3",
   "version": "3.10.8"
  },
  "orig_nbformat": 4,
  "vscode": {
   "interpreter": {
    "hash": "f3f7c9b265543f54fa9d64ce8849bd23b44dde3b21d9b0d36accdb207282959b"
   }
  }
 },
 "nbformat": 4,
 "nbformat_minor": 2
}
