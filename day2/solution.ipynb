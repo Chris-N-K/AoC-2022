{
 "cells": [
  {
   "cell_type": "markdown",
   "metadata": {},
   "source": [
    "# Day2"
   ]
  },
  {
   "cell_type": "code",
   "execution_count": 43,
   "metadata": {},
   "outputs": [
    {
     "data": {
      "text/plain": [
       "['A Y', 'B X', 'C Z']"
      ]
     },
     "execution_count": 43,
     "metadata": {},
     "output_type": "execute_result"
    }
   ],
   "source": [
    "from aocd.models import Puzzle\n",
    "from aocd import submit\n",
    "\n",
    "puzzle = Puzzle(2022, 2)\n",
    "example = puzzle.example_data.splitlines()\n",
    "inp = puzzle.input_data.splitlines()\n",
    "\n",
    "example"
   ]
  },
  {
   "cell_type": "code",
   "execution_count": 46,
   "metadata": {},
   "outputs": [
    {
     "data": {
      "text/plain": [
       "14264"
      ]
     },
     "execution_count": 46,
     "metadata": {},
     "output_type": "execute_result"
    }
   ],
   "source": [
    "# a\n",
    "data = inp\n",
    "values = {'A': 1,'B': 2,'C': 3,'X': 1,'Y': 2,'Z': 3,}\n",
    "match_history = []\n",
    "for match in data:\n",
    "    a, b = map(lambda x: values.get(x), match.split(' '))\n",
    "    if a == b:\n",
    "        match_history.append(b + 3)\n",
    "    elif sum([a, b]) == 4:\n",
    "        match_history.append(b + (0 if a < b else 6))\n",
    "    else:\n",
    "        match_history.append(b + (6 if a < b else 0))\n",
    "res_a = sum(match_history)\n",
    "res_a\n"
   ]
  },
  {
   "cell_type": "code",
   "execution_count": 32,
   "metadata": {},
   "outputs": [
    {
     "name": "stdout",
     "output_type": "stream",
     "text": [
      "That's the right answer!  You are one gold star closer to collecting enough star fruit. [Continue to Part Two]\n"
     ]
    },
    {
     "data": {
      "text/plain": [
       "<Response [200]>"
      ]
     },
     "execution_count": 32,
     "metadata": {},
     "output_type": "execute_result"
    }
   ],
   "source": [
    "submit(res_a, 'a', day=2, year=2022)"
   ]
  },
  {
   "cell_type": "code",
   "execution_count": 39,
   "metadata": {},
   "outputs": [
    {
     "data": {
      "text/plain": [
       "12382"
      ]
     },
     "execution_count": 39,
     "metadata": {},
     "output_type": "execute_result"
    }
   ],
   "source": [
    "# a\n",
    "data = inp\n",
    "values = {\n",
    "    'A': 1, 'B': 2, 'C': 3, \n",
    "    'X': 0, 'Y': 1, 'Z': 2,\n",
    "}\n",
    "answer = {\n",
    "    0:{1:3, 2:1, 3:2},\n",
    "    2:{1:2, 2:3, 3:1}\n",
    "}\n",
    "match_history = []\n",
    "for match in data:\n",
    "    a, b = map(lambda x: values.get(x), match.split(' '))\n",
    "    if b == 1:\n",
    "        match_history.append(a + 3)\n",
    "    else:\n",
    "        match_history.append(answer[b][a] + b*3)\n",
    "\n",
    "res_b = sum(match_history)\n",
    "res_b"
   ]
  },
  {
   "cell_type": "code",
   "execution_count": 40,
   "metadata": {},
   "outputs": [
    {
     "name": "stdout",
     "output_type": "stream",
     "text": [
      "That's the right answer!  You are one gold star closer to collecting enough star fruit.You have completed Day 2! You can [Shareon\n",
      "  Twitter\n",
      "Mastodon] this victory or [Return to Your Advent Calendar].\n"
     ]
    },
    {
     "data": {
      "text/plain": [
       "<Response [200]>"
      ]
     },
     "execution_count": 40,
     "metadata": {},
     "output_type": "execute_result"
    }
   ],
   "source": [
    "submit(res_b, 'b', day=2, year=2022)"
   ]
  },
  {
   "cell_type": "code",
   "execution_count": null,
   "metadata": {},
   "outputs": [],
   "source": []
  }
 ],
 "metadata": {
  "kernelspec": {
   "display_name": "Python 3.10.8 (conda)",
   "language": "python",
   "name": "python3"
  },
  "language_info": {
   "codemirror_mode": {
    "name": "ipython",
    "version": 3
   },
   "file_extension": ".py",
   "mimetype": "text/x-python",
   "name": "python",
   "nbconvert_exporter": "python",
   "pygments_lexer": "ipython3",
   "version": "3.10.8"
  },
  "orig_nbformat": 4,
  "vscode": {
   "interpreter": {
    "hash": "f3f7c9b265543f54fa9d64ce8849bd23b44dde3b21d9b0d36accdb207282959b"
   }
  }
 },
 "nbformat": 4,
 "nbformat_minor": 2
}
