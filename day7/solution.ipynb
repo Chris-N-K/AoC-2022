{
 "cells": [
  {
   "cell_type": "markdown",
   "metadata": {},
   "source": [
    "# Day7"
   ]
  },
  {
   "cell_type": "code",
   "execution_count": 1,
   "metadata": {},
   "outputs": [
    {
     "name": "stdout",
     "output_type": "stream",
     "text": [
      "~~~~~~~~~~~~~~~~~~~~~~~~~~~~~~~~~~~~~~~~~~~~~~~~~~~~~~~~~~~~~~~~~No Space Left On Device~~~~~~~~~~~~~~~~~~~~~~~~~~~~~~~~~~~~~~~~~~~~~~~~~~~~~~~~~~~~~~~~~~\n"
     ]
    }
   ],
   "source": [
    "day=7\n",
    "year=2022\n",
    "\n",
    "from aocd.models import Puzzle\n",
    "from aocd import submit\n",
    "\n",
    "puzzle = Puzzle(day=day, year=year)\n",
    "edata = puzzle.example_data\n",
    "idata = puzzle.input_data\n",
    "\n",
    "print(puzzle.title.center(154, '~'))\n",
    "#puzzle.view()"
   ]
  },
  {
   "cell_type": "code",
   "execution_count": 141,
   "metadata": {},
   "outputs": [],
   "source": [
    "class File:\n",
    "    def __init__(self, name: str, size: int):\n",
    "        self.name=name\n",
    "        self.size=size\n",
    "\n",
    "    def __repr__(self) -> str:\n",
    "        return f'{self.name} (file, size={self.size})'\n",
    "\n",
    "\n",
    "class Directory:\n",
    "    def __init__(self, name: str, parent: str, items: list=list()) -> None:\n",
    "        self.name=name\n",
    "        self.parent=parent\n",
    "        self.items=items\n",
    "        self.size=self.get_size()\n",
    "    \n",
    "    def __repr__(self) -> str:\n",
    "        return f'{self.name} (dir, size={self.size})'\n",
    "    \n",
    "    def __hash__(self) -> int:\n",
    "        return hash(self.name)\n",
    "    \n",
    "    def __eq__(self, __o: object) -> bool:\n",
    "        return self.__hash__() == __o.__hash__()\n",
    "    \n",
    "    def get_size(self):\n",
    "        return sum([item.size for item in self.items])\n",
    "\n",
    "    def add_item(self, item):\n",
    "        self.items = self.items + [item]\n",
    "        self.size = self.get_size()\n",
    "\n"
   ]
  },
  {
   "cell_type": "code",
   "execution_count": 156,
   "metadata": {},
   "outputs": [
    {
     "name": "stdout",
     "output_type": "stream",
     "text": [
      "/ (dir, size=0)\n",
      "/ (dir, size=0)\n",
      "/ (dir, size=0)\n",
      "/ (dir, size=14848514)\n",
      "/ (dir, size=23352670)\n",
      "/ (dir, size=23352670)\n"
     ]
    },
    {
     "ename": "TypeError",
     "evalue": "'Directory' object is not subscriptable",
     "output_type": "error",
     "traceback": [
      "\u001b[0;31m---------------------------------------------------------------------------\u001b[0m",
      "\u001b[0;31mTypeError\u001b[0m                                 Traceback (most recent call last)",
      "Cell \u001b[0;32mIn[156], line 36\u001b[0m\n\u001b[1;32m     34\u001b[0m \u001b[39melse\u001b[39;00m:        \n\u001b[1;32m     35\u001b[0m     \u001b[39mif\u001b[39;00m line\u001b[39m.\u001b[39mstartswith(\u001b[39m'\u001b[39m\u001b[39m$ cd\u001b[39m\u001b[39m'\u001b[39m):\n\u001b[0;32m---> 36\u001b[0m         CURRDIR \u001b[39m=\u001b[39mcd(line\u001b[39m.\u001b[39;49msplit()[\u001b[39m2\u001b[39;49m], CURRDIR, ROOT)\n\u001b[1;32m     37\u001b[0m     \u001b[39melif\u001b[39;00m \u001b[39mnot\u001b[39;00m line\u001b[39m.\u001b[39mstartswith(\u001b[39m'\u001b[39m\u001b[39m$\u001b[39m\u001b[39m'\u001b[39m):\n\u001b[1;32m     38\u001b[0m         item \u001b[39m=\u001b[39m parse_ls_out(line, CURRDIR)\n",
      "Cell \u001b[0;32mIn[156], line 17\u001b[0m, in \u001b[0;36mcd\u001b[0;34m(target, cdir, root)\u001b[0m\n\u001b[1;32m     15\u001b[0m         \u001b[39mreturn\u001b[39;00m root\n\u001b[1;32m     16\u001b[0m     \u001b[39melif\u001b[39;00m target \u001b[39min\u001b[39;00m cdir\u001b[39m.\u001b[39mitems:\n\u001b[0;32m---> 17\u001b[0m         \u001b[39mreturn\u001b[39;00m cdir[cdir\u001b[39m.\u001b[39;49mitems\u001b[39m.\u001b[39;49mindex(target)]\n\u001b[1;32m     18\u001b[0m \u001b[39mreturn\u001b[39;00m cdir\n",
      "\u001b[0;31mTypeError\u001b[0m: 'Directory' object is not subscriptable"
     ]
    }
   ],
   "source": [
    "data = '$ cd /\\n$ ls\\ndir a\\n14848514 b.txt\\n8504156 c.dat\\ndir d\\n$ cd a\\n$ ls\\ndir e\\n29116 f\\n2557 g\\n62596 h.lst\\n$ cd e\\n$ ls\\n584 i\\n$ cd ..\\n$ cd ..\\n$ cd d\\n$ ls\\n4060174 j\\n8033020 d.log\\n5626152 d.ext\\n7214296 k'\n",
    "data = iter(data.splitlines())\n",
    "\n",
    "\n",
    "global ROOT, CURRDIR\n",
    "ROOT = Directory('/', parent='/')\n",
    "CURRDIR = ROOT\n",
    "\n",
    "\n",
    "def cd(target, cdir, root):\n",
    "    if target != cdir:\n",
    "        if target == '..':\n",
    "            return cdir.parent\n",
    "        elif target == '/':\n",
    "            return root\n",
    "        elif target in cdir.items:\n",
    "            return cdir[cdir.items.index(target)]\n",
    "    return cdir\n",
    "\n",
    "\n",
    "def parse_ls_out(line, cdir):\n",
    "    if line.startswith('dir'):\n",
    "        item = Directory(name=line[4:], parent=CURRDIR)\n",
    "    elif line[0].isnumeric():\n",
    "        size, name = line.split()\n",
    "        item = File(name=name, size=int(size))\n",
    "    cdir.add_item(item)\n",
    "\n",
    "\n",
    "while True:\n",
    "    line = next(data, 'stop')\n",
    "    if line == 'stop':\n",
    "        break\n",
    "    else:        \n",
    "        if line.startswith('$ cd'):\n",
    "            CURRDIR =cd(line.split()[2], CURRDIR, ROOT)\n",
    "        elif not line.startswith('$'):\n",
    "            item = parse_ls_out(line, CURRDIR)\n",
    "    print(CURRDIR)\n"
   ]
  },
  {
   "cell_type": "code",
   "execution_count": 154,
   "metadata": {},
   "outputs": [
    {
     "data": {
      "text/plain": [
       "[a (dir, size=0), None]"
      ]
     },
     "execution_count": 154,
     "metadata": {},
     "output_type": "execute_result"
    }
   ],
   "source": [
    "CURRDIR.items"
   ]
  },
  {
   "cell_type": "code",
   "execution_count": 146,
   "metadata": {},
   "outputs": [
    {
     "data": {
      "text/plain": [
       "e (dir, size=584)"
      ]
     },
     "execution_count": 146,
     "metadata": {},
     "output_type": "execute_result"
    }
   ],
   "source": [
    "ALLDIRS['e']"
   ]
  },
  {
   "cell_type": "code",
   "execution_count": null,
   "metadata": {},
   "outputs": [],
   "source": [
    "submit(res_a, 'a', day=day, year=year)"
   ]
  },
  {
   "cell_type": "code",
   "execution_count": null,
   "metadata": {},
   "outputs": [],
   "source": []
  },
  {
   "cell_type": "code",
   "execution_count": null,
   "metadata": {},
   "outputs": [],
   "source": [
    "submit(res_b, 'b', day=day, year=year)"
   ]
  }
 ],
 "metadata": {
  "kernelspec": {
   "display_name": "Python 3.10.8 (conda)",
   "language": "python",
   "name": "python3"
  },
  "language_info": {
   "codemirror_mode": {
    "name": "ipython",
    "version": 3
   },
   "file_extension": ".py",
   "mimetype": "text/x-python",
   "name": "python",
   "nbconvert_exporter": "python",
   "pygments_lexer": "ipython3",
   "version": "3.10.8"
  },
  "orig_nbformat": 4,
  "vscode": {
   "interpreter": {
    "hash": "f3f7c9b265543f54fa9d64ce8849bd23b44dde3b21d9b0d36accdb207282959b"
   }
  }
 },
 "nbformat": 4,
 "nbformat_minor": 2
}
