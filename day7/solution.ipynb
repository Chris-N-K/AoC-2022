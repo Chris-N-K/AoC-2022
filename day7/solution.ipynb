{
 "cells": [
  {
   "cell_type": "markdown",
   "metadata": {},
   "source": [
    "# Day7"
   ]
  },
  {
   "cell_type": "code",
   "execution_count": 69,
   "metadata": {},
   "outputs": [
    {
     "name": "stdout",
     "output_type": "stream",
     "text": [
      "~~~~~~~~~~~~~~~~~~~~~~~~~~~~~~~~~~~~~~~~~~~~~~~~~~~~~~~~~~~~~~~~~No Space Left On Device~~~~~~~~~~~~~~~~~~~~~~~~~~~~~~~~~~~~~~~~~~~~~~~~~~~~~~~~~~~~~~~~~~\n"
     ]
    }
   ],
   "source": [
    "day=7\n",
    "year=2022\n",
    "\n",
    "from aocd.models import Puzzle\n",
    "from aocd import submit\n",
    "\n",
    "puzzle = Puzzle(day=day, year=year)\n",
    "with open('example.txt') as f:\n",
    "    edata = f.read()\n",
    "#puzzle.example_data\n",
    "idata = puzzle.input_data\n",
    "\n",
    "print(puzzle.title.center(154, '~'))\n",
    "#puzzle.view()"
   ]
  },
  {
   "cell_type": "code",
   "execution_count": 72,
   "metadata": {},
   "outputs": [
    {
     "data": {
      "text/plain": [
       "1844187"
      ]
     },
     "execution_count": 72,
     "metadata": {},
     "output_type": "execute_result"
    }
   ],
   "source": [
    "data = idata\n",
    "\n",
    "root = dict(\n",
    "    name='/',\n",
    "    parent=None,\n",
    "    items={},\n",
    ")\n",
    "current_dir = {'items': {'/': root}}\n",
    "\n",
    "for line in data.split('$ cd '):\n",
    "    if line:\n",
    "        target, *items = line.split('\\n$ ls\\n')\n",
    "        target = target.replace('\\n','')\n",
    "        if target != '..':\n",
    "            current_dir=current_dir['items'][target]\n",
    "        else:\n",
    "            current_dir=current_dir['parent']\n",
    "        if items:\n",
    "            for item in items[0].splitlines():\n",
    "                a, b = item.split()\n",
    "                if a == 'dir':\n",
    "                    current_dir['items'][b] = dict(\n",
    "                        name=b,\n",
    "                        parent=current_dir,\n",
    "                        items={},\n",
    "                    )\n",
    "                else:\n",
    "                    current_dir['items'][b] = int(a)\n",
    "\n",
    "def calc_size(input):\n",
    "    size = 0\n",
    "    for val in input['items'].values():\n",
    "        if isinstance(val, int):\n",
    "            size += val\n",
    "        else:\n",
    "            size += calc_size(val)\n",
    "    return size\n",
    "\n",
    "\n",
    "def map_size(input, out=[]):\n",
    "    if isinstance(input, dict):\n",
    "        for val in input['items'].values():\n",
    "            if isinstance(val, dict):\n",
    "                out += [calc_size(val)]\n",
    "                map_size(val, out)\n",
    "    return out\n",
    "\n",
    "sizes = map_size(root)\n",
    "sizes = [calc_size(root), *sizes]\n",
    "\n",
    "res_a = sum(map(lambda x: x if x < 100000 else 0, sizes))\n",
    "res_a\n"
   ]
  },
  {
   "cell_type": "code",
   "execution_count": 52,
   "metadata": {},
   "outputs": [
    {
     "name": "stdout",
     "output_type": "stream",
     "text": [
      "That's the right answer!  You are one gold star closer to collecting enough star fruit. [Continue to Part Two]\n"
     ]
    },
    {
     "data": {
      "text/plain": [
       "<Response [200]>"
      ]
     },
     "execution_count": 52,
     "metadata": {},
     "output_type": "execute_result"
    }
   ],
   "source": [
    "submit(res_a, 'a', day=day, year=year)"
   ]
  },
  {
   "cell_type": "code",
   "execution_count": 67,
   "metadata": {},
   "outputs": [
    {
     "data": {
      "text/plain": [
       "4978279"
      ]
     },
     "execution_count": 67,
     "metadata": {},
     "output_type": "execute_result"
    }
   ],
   "source": [
    "max_space = 70000000\n",
    "full_space = calc_size(root)\n",
    "space_for_update = 30000000\n",
    "needed_space = space_for_update - (max_space - full_space)\n",
    "res_b = min([i for i in sizes if i >= needed_space])\n",
    "res_b"
   ]
  },
  {
   "cell_type": "code",
   "execution_count": 68,
   "metadata": {},
   "outputs": [
    {
     "name": "stdout",
     "output_type": "stream",
     "text": [
      "That's the right answer!  You are one gold star closer to collecting enough star fruit.You have completed Day 7! You can [Shareon\n",
      "  Twitter\n",
      "Mastodon] this victory or [Return to Your Advent Calendar].\n"
     ]
    },
    {
     "data": {
      "text/plain": [
       "<Response [200]>"
      ]
     },
     "execution_count": 68,
     "metadata": {},
     "output_type": "execute_result"
    }
   ],
   "source": [
    "submit(res_b, 'b', day=day, year=year)"
   ]
  },
  {
   "cell_type": "code",
   "execution_count": null,
   "metadata": {},
   "outputs": [],
   "source": []
  }
 ],
 "metadata": {
  "kernelspec": {
   "display_name": "Python 3.10.8 (conda)",
   "language": "python",
   "name": "python3"
  },
  "language_info": {
   "codemirror_mode": {
    "name": "ipython",
    "version": 3
   },
   "file_extension": ".py",
   "mimetype": "text/x-python",
   "name": "python",
   "nbconvert_exporter": "python",
   "pygments_lexer": "ipython3",
   "version": "3.10.8"
  },
  "orig_nbformat": 4,
  "vscode": {
   "interpreter": {
    "hash": "f3f7c9b265543f54fa9d64ce8849bd23b44dde3b21d9b0d36accdb207282959b"
   }
  }
 },
 "nbformat": 4,
 "nbformat_minor": 2
}
