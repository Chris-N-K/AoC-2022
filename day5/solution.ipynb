{
 "cells": [
  {
   "cell_type": "markdown",
   "metadata": {},
   "source": [
    "# Day5"
   ]
  },
  {
   "cell_type": "code",
   "execution_count": 1,
   "metadata": {},
   "outputs": [
    {
     "name": "stdout",
     "output_type": "stream",
     "text": [
      "~~~~~~~~~~~~~~~~~~~~~~~~~~~~~~~~~~~~~~~~~~~~~~~~~~~~~~~~~~~~~~~~~~~~~~Supply Stacks~~~~~~~~~~~~~~~~~~~~~~~~~~~~~~~~~~~~~~~~~~~~~~~~~~~~~~~~~~~~~~~~~~~~~~~\n"
     ]
    }
   ],
   "source": [
    "from aocd.models import Puzzle\n",
    "from aocd import submit\n",
    "\n",
    "puzzle = Puzzle(day=5, year=2022)\n",
    "edata = puzzle.example_data\n",
    "idata = puzzle.input_data\n",
    "\n",
    "puzzle.view()\n",
    "print(puzzle.title.center(154, '~'))"
   ]
  },
  {
   "cell_type": "code",
   "execution_count": 4,
   "metadata": {},
   "outputs": [
    {
     "data": {
      "text/plain": [
       "'FZCMJCRHZ'"
      ]
     },
     "execution_count": 4,
     "metadata": {},
     "output_type": "execute_result"
    }
   ],
   "source": [
    "data=idata\n",
    "\n",
    "stack, manual = data.split('\\n\\n')\n",
    "stack = [list(line) for line in stack.replace('    ', '-').replace(' ','').replace('[','').replace(']','').splitlines()]\n",
    "stack = [[i for i in subl if i != '-' and not i.isnumeric()] for subl in zip(*stack[::-1])]\n",
    "\n",
    "for line in manual.splitlines():\n",
    "    count, a, b = [int(i) for i in line.split(' ') if i.isnumeric()]\n",
    "    for i in range(count):\n",
    "        stack[b-1].append(stack[a-1].pop())\n",
    "\n",
    "res_a = ''.join([subl.pop() for subl in stack])\n",
    "res_a"
   ]
  },
  {
   "cell_type": "code",
   "execution_count": 5,
   "metadata": {},
   "outputs": [
    {
     "name": "stdout",
     "output_type": "stream",
     "text": [
      "That's the right answer!  You are one gold star closer to collecting enough star fruit. [Continue to Part Two]\n"
     ]
    },
    {
     "data": {
      "text/plain": [
       "<Response [200]>"
      ]
     },
     "execution_count": 5,
     "metadata": {},
     "output_type": "execute_result"
    }
   ],
   "source": [
    "submit(res_a, 'a', day=5, year=2022)"
   ]
  },
  {
   "cell_type": "code",
   "execution_count": 7,
   "metadata": {},
   "outputs": [
    {
     "data": {
      "text/plain": [
       "'JSDHQMZGF'"
      ]
     },
     "execution_count": 7,
     "metadata": {},
     "output_type": "execute_result"
    }
   ],
   "source": [
    "data=idata\n",
    "\n",
    "stack, manual = data.split('\\n\\n')\n",
    "stack = [list(line) for line in stack.replace('    ', '-').replace(' ','').replace('[','').replace(']','').splitlines()]\n",
    "stack = [[i for i in subl if i != '-' and not i.isnumeric()] for subl in zip(*stack[::-1])]\n",
    "\n",
    "for line in manual.splitlines():\n",
    "    count, a, b = [int(i) for i in line.split(' ') if i.isnumeric()]\n",
    "    stack[b-1] += stack[a-1][-count:]\n",
    "    stack[a-1] = stack[a-1][:-count]\n",
    "\n",
    "res_b = ''.join([subl.pop() for subl in stack])\n",
    "res_b"
   ]
  },
  {
   "cell_type": "code",
   "execution_count": 8,
   "metadata": {},
   "outputs": [
    {
     "name": "stdout",
     "output_type": "stream",
     "text": [
      "That's the right answer!  You are one gold star closer to collecting enough star fruit.You have completed Day 5! You can [Shareon\n",
      "  Twitter\n",
      "Mastodon] this victory or [Return to Your Advent Calendar].\n"
     ]
    },
    {
     "data": {
      "text/plain": [
       "<Response [200]>"
      ]
     },
     "execution_count": 8,
     "metadata": {},
     "output_type": "execute_result"
    }
   ],
   "source": [
    "submit(res_b, 'b', day=5, year=2022)"
   ]
  },
  {
   "cell_type": "code",
   "execution_count": null,
   "metadata": {},
   "outputs": [],
   "source": []
  }
 ],
 "metadata": {
  "kernelspec": {
   "display_name": "Python 3.10.8 (conda)",
   "language": "python",
   "name": "python3"
  },
  "language_info": {
   "codemirror_mode": {
    "name": "ipython",
    "version": 3
   },
   "file_extension": ".py",
   "mimetype": "text/x-python",
   "name": "python",
   "nbconvert_exporter": "python",
   "pygments_lexer": "ipython3",
   "version": "3.10.8"
  },
  "orig_nbformat": 4,
  "vscode": {
   "interpreter": {
    "hash": "f3f7c9b265543f54fa9d64ce8849bd23b44dde3b21d9b0d36accdb207282959b"
   }
  }
 },
 "nbformat": 4,
 "nbformat_minor": 2
}
