{
 "cells": [
  {
   "cell_type": "markdown",
   "metadata": {},
   "source": [
    "# Day3"
   ]
  },
  {
   "cell_type": "code",
   "execution_count": 37,
   "metadata": {},
   "outputs": [],
   "source": [
    "from aocd.models import Puzzle\n",
    "from aocd import submit\n",
    "\n",
    "puzzle = Puzzle(2022, 3)\n",
    "example = puzzle.example_data.splitlines()\n",
    "inp = puzzle.input_data.splitlines()"
   ]
  },
  {
   "cell_type": "code",
   "execution_count": 87,
   "metadata": {},
   "outputs": [
    {
     "data": {
      "text/plain": [
       "8139"
      ]
     },
     "execution_count": 87,
     "metadata": {},
     "output_type": "execute_result"
    }
   ],
   "source": [
    "# a\n",
    "def find_double(string):\n",
    "    center = len(string) // 2\n",
    "    a = set(string[:center])\n",
    "    b = set(string[center:])\n",
    "    return list(a.intersection(b))[0]\n",
    "\n",
    "\n",
    "def letter_to_num(letter):\n",
    "    return ord(letter) - 96 if letter.islower() else ord(letter) - 38\n",
    "\n",
    "\n",
    "res_a = sum(map(letter_to_num, map(find_double, inp)))\n",
    "res_a\n"
   ]
  },
  {
   "cell_type": "code",
   "execution_count": 35,
   "metadata": {},
   "outputs": [
    {
     "name": "stdout",
     "output_type": "stream",
     "text": [
      "That's the right answer!  You are one gold star closer to collecting enough star fruit. [Continue to Part Two]\n"
     ]
    },
    {
     "data": {
      "text/plain": [
       "<Response [200]>"
      ]
     },
     "execution_count": 35,
     "metadata": {},
     "output_type": "execute_result"
    }
   ],
   "source": [
    "submit(res_a, 'a', day=3, year=2022)"
   ]
  },
  {
   "cell_type": "code",
   "execution_count": 106,
   "metadata": {},
   "outputs": [
    {
     "data": {
      "text/plain": [
       "2668"
      ]
     },
     "execution_count": 106,
     "metadata": {},
     "output_type": "execute_result"
    }
   ],
   "source": [
    "# b\n",
    "def split_into_groups(data):\n",
    "    return list(zip(*(iter(data),) * 3))\n",
    "\n",
    "\n",
    "def find_group_token(data):\n",
    "    a,b,c = map(set,data)\n",
    "    return list(a.intersection(b, c))[0]\n",
    "\n",
    "res_b = sum(map(letter_to_num, map(find_group_token, split_into_groups(inp))))\n",
    "res_b"
   ]
  },
  {
   "cell_type": "code",
   "execution_count": 107,
   "metadata": {},
   "outputs": [
    {
     "name": "stdout",
     "output_type": "stream",
     "text": [
      "That's the right answer!  You are one gold star closer to collecting enough star fruit.You have completed Day 3! You can [Shareon\n",
      "  Twitter\n",
      "Mastodon] this victory or [Return to Your Advent Calendar].\n"
     ]
    },
    {
     "data": {
      "text/plain": [
       "<Response [200]>"
      ]
     },
     "execution_count": 107,
     "metadata": {},
     "output_type": "execute_result"
    }
   ],
   "source": [
    "submit(res_b, 'b', day=3, year=2022)"
   ]
  },
  {
   "cell_type": "code",
   "execution_count": null,
   "metadata": {},
   "outputs": [],
   "source": []
  }
 ],
 "metadata": {
  "kernelspec": {
   "display_name": "Python 3.10.8 (conda)",
   "language": "python",
   "name": "python3"
  },
  "language_info": {
   "codemirror_mode": {
    "name": "ipython",
    "version": 3
   },
   "file_extension": ".py",
   "mimetype": "text/x-python",
   "name": "python",
   "nbconvert_exporter": "python",
   "pygments_lexer": "ipython3",
   "version": "3.10.8"
  },
  "orig_nbformat": 4,
  "vscode": {
   "interpreter": {
    "hash": "f3f7c9b265543f54fa9d64ce8849bd23b44dde3b21d9b0d36accdb207282959b"
   }
  }
 },
 "nbformat": 4,
 "nbformat_minor": 2
}
