{
 "cells": [
  {
   "cell_type": "markdown",
   "metadata": {},
   "source": [
    "# Day8"
   ]
  },
  {
   "cell_type": "code",
   "execution_count": 2,
   "metadata": {},
   "outputs": [
    {
     "name": "stdout",
     "output_type": "stream",
     "text": [
      "~~~~~~~~~~~~~~~~~~~~~~~~~~~~~~~~~~~~~~~~~~~~~~~~~~~~~~~~~~~~~~~~~~~~Treetop Tree House~~~~~~~~~~~~~~~~~~~~~~~~~~~~~~~~~~~~~~~~~~~~~~~~~~~~~~~~~~~~~~~~~~~~\n"
     ]
    }
   ],
   "source": [
    "day=8\n",
    "year=2022\n",
    "\n",
    "from aocd.models import Puzzle\n",
    "from aocd import submit\n",
    "\n",
    "puzzle = Puzzle(day=day, year=year)\n",
    "edata = puzzle.example_data\n",
    "idata = puzzle.input_data\n",
    "\n",
    "print(puzzle.title.center(154, '~'))\n",
    "#puzzle.view()"
   ]
  },
  {
   "cell_type": "code",
   "execution_count": 15,
   "metadata": {},
   "outputs": [
    {
     "data": {
      "text/plain": [
       "1843"
      ]
     },
     "execution_count": 15,
     "metadata": {},
     "output_type": "execute_result"
    }
   ],
   "source": [
    "data = idata\n",
    "\n",
    "\n",
    "def shape(grid):\n",
    "    return (len(grid), len(grid[0]))\n",
    "\n",
    "\n",
    "def edge_trees(grid):\n",
    "    grid_shape = shape(grid)\n",
    "    return (grid_shape[0]-1) * 4\n",
    "\n",
    "\n",
    "def get_slice(grid, y, x, direcion):\n",
    "    if direcion == '-y':\n",
    "        return [l[x] for l in grid[slice(0, y)]]\n",
    "    elif direcion == '-x':\n",
    "        return grid[y][slice(0, x)]\n",
    "    elif direcion == '+y':\n",
    "        return [l[x] for l in grid[slice(y+1, None)]][::-1]\n",
    "    elif direcion == '+x':\n",
    "        return grid[y][slice(x+1, None)][::-1]\n",
    "    else:\n",
    "        raise ValueError('wrong driection input')\n",
    "\n",
    "\n",
    "def is_visible(grid, y, x):\n",
    "    height = grid[y][x]\n",
    "    return any(\n",
    "        [all(map(lambda x: x < height, get_slice(grid, y, x, direction))) for direction in ['-y', '-x', '+y', '+x']]\n",
    "    )\n",
    "\n",
    "\n",
    "tree_grid = [list(map(int, line)) for line in data.splitlines()]\n",
    "grid_shape = shape(tree_grid)\n",
    "edge_trees = edge_trees(tree_grid)\n",
    "out_grid = []\n",
    "for y in range(1, grid_shape[0]-1):\n",
    "    out_grid.append([])\n",
    "    for x in range(1, grid_shape[1]-1):\n",
    "        if is_visible(tree_grid, y, x):\n",
    "            out_grid[y-1].append(1)\n",
    "        else:\n",
    "            out_grid[y-1].append(0)\n",
    "\n",
    "res_a = sum(map(sum, out_grid)) + edge_trees\n",
    "res_a"
   ]
  },
  {
   "cell_type": "code",
   "execution_count": 17,
   "metadata": {},
   "outputs": [
    {
     "name": "stdout",
     "output_type": "stream",
     "text": [
      "That's the right answer!  You are one gold star closer to collecting enough star fruit. [Continue to Part Two]\n"
     ]
    },
    {
     "data": {
      "text/plain": [
       "<Response [200]>"
      ]
     },
     "execution_count": 17,
     "metadata": {},
     "output_type": "execute_result"
    }
   ],
   "source": [
    "submit(res_a, 'a', day=day, year=year)"
   ]
  },
  {
   "cell_type": "code",
   "execution_count": 32,
   "metadata": {},
   "outputs": [
    {
     "data": {
      "text/plain": [
       "180000"
      ]
     },
     "execution_count": 32,
     "metadata": {},
     "output_type": "execute_result"
    }
   ],
   "source": [
    "data = idata\n",
    "\n",
    "\n",
    "def count_visible(self, view):\n",
    "    visible = 0\n",
    "    for i in view:\n",
    "        if i < self:\n",
    "            visible += 1\n",
    "        else:\n",
    "            visible += 1\n",
    "            return visible\n",
    "    return visible\n",
    "\n",
    "\n",
    "def viewing_score(grid, y, x):\n",
    "    viewing_distances = [count_visible(grid[y][x], get_slice(grid, y, x, direction)[::-1]) for direction in ['-y', '-x', '+y', '+x']]\n",
    "    view_score = 1\n",
    "    for vd in viewing_distances:\n",
    "        view_score *= vd\n",
    "    return view_score\n",
    "\n",
    "\n",
    "tree_grid = [list(map(int, line)) for line in data.splitlines()]\n",
    "grid_shape = shape(tree_grid)\n",
    "out_grid = []\n",
    "for y in range(1, grid_shape[0]-1):\n",
    "    out_grid.append([])\n",
    "    for x in range(1, grid_shape[1]-1):\n",
    "        out_grid[y-1].append(viewing_score(tree_grid, y, x))\n",
    "\n",
    "res_b = max(map(max, out_grid))\n",
    "res_b"
   ]
  },
  {
   "cell_type": "code",
   "execution_count": 33,
   "metadata": {},
   "outputs": [
    {
     "name": "stdout",
     "output_type": "stream",
     "text": [
      "That's the right answer!  You are one gold star closer to collecting enough star fruit.You have completed Day 8! You can [Shareon\n",
      "  Twitter\n",
      "Mastodon] this victory or [Return to Your Advent Calendar].\n"
     ]
    },
    {
     "data": {
      "text/plain": [
       "<Response [200]>"
      ]
     },
     "execution_count": 33,
     "metadata": {},
     "output_type": "execute_result"
    }
   ],
   "source": [
    "submit(res_b, 'b', day=day, year=year)"
   ]
  },
  {
   "cell_type": "code",
   "execution_count": null,
   "metadata": {},
   "outputs": [],
   "source": []
  }
 ],
 "metadata": {
  "kernelspec": {
   "display_name": "Python 3.10.8 (conda)",
   "language": "python",
   "name": "python3"
  },
  "language_info": {
   "codemirror_mode": {
    "name": "ipython",
    "version": 3
   },
   "file_extension": ".py",
   "mimetype": "text/x-python",
   "name": "python",
   "nbconvert_exporter": "python",
   "pygments_lexer": "ipython3",
   "version": "3.10.8"
  },
  "orig_nbformat": 4,
  "vscode": {
   "interpreter": {
    "hash": "f3f7c9b265543f54fa9d64ce8849bd23b44dde3b21d9b0d36accdb207282959b"
   }
  }
 },
 "nbformat": 4,
 "nbformat_minor": 2
}
